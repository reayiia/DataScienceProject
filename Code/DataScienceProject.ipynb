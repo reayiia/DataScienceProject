{
 "cells": [
  {
   "cell_type": "markdown",
   "id": "d722cfff",
   "metadata": {},
   "source": [
    "# NFL Salary Prediction (2017)\n",
    "\n",
    "This notebook is part of a Data Science Fundamentals project to analyze how NFL player performance metrics in 2017 correlate with salary cap hits.\n"
   ]
  },
  {
   "cell_type": "code",
   "execution_count": 1,
   "id": "e9840e75",
   "metadata": {},
   "outputs": [
    {
     "data": {
      "text/html": [
       "<div>\n",
       "<style scoped>\n",
       "    .dataframe tbody tr th:only-of-type {\n",
       "        vertical-align: middle;\n",
       "    }\n",
       "\n",
       "    .dataframe tbody tr th {\n",
       "        vertical-align: top;\n",
       "    }\n",
       "\n",
       "    .dataframe thead th {\n",
       "        text-align: right;\n",
       "    }\n",
       "</style>\n",
       "<table border=\"1\" class=\"dataframe\">\n",
       "  <thead>\n",
       "    <tr style=\"text-align: right;\">\n",
       "      <th></th>\n",
       "      <th>Player</th>\n",
       "      <th>Pos</th>\n",
       "      <th>Tm</th>\n",
       "      <th>Cap Hit</th>\n",
       "      <th>Passing Yards</th>\n",
       "      <th>Rushing Yards</th>\n",
       "      <th>Receiving Yards</th>\n",
       "      <th>Tackles</th>\n",
       "      <th>Sacks</th>\n",
       "      <th>Interceptions</th>\n",
       "    </tr>\n",
       "  </thead>\n",
       "  <tbody>\n",
       "    <tr>\n",
       "      <th>0</th>\n",
       "      <td>Player_0</td>\n",
       "      <td>S</td>\n",
       "      <td>GB</td>\n",
       "      <td>9.020982e+06</td>\n",
       "      <td>0.0</td>\n",
       "      <td>0.0</td>\n",
       "      <td>0.000000</td>\n",
       "      <td>52.210742</td>\n",
       "      <td>0.000000</td>\n",
       "      <td>1.827099</td>\n",
       "    </tr>\n",
       "    <tr>\n",
       "      <th>1</th>\n",
       "      <td>Player_1</td>\n",
       "      <td>TE</td>\n",
       "      <td>MIN</td>\n",
       "      <td>2.394208e+06</td>\n",
       "      <td>0.0</td>\n",
       "      <td>0.0</td>\n",
       "      <td>565.617087</td>\n",
       "      <td>0.000000</td>\n",
       "      <td>0.000000</td>\n",
       "      <td>0.000000</td>\n",
       "    </tr>\n",
       "    <tr>\n",
       "      <th>2</th>\n",
       "      <td>Player_2</td>\n",
       "      <td>DE</td>\n",
       "      <td>SEA</td>\n",
       "      <td>3.265725e+06</td>\n",
       "      <td>0.0</td>\n",
       "      <td>0.0</td>\n",
       "      <td>0.000000</td>\n",
       "      <td>68.373129</td>\n",
       "      <td>4.671508</td>\n",
       "      <td>0.000000</td>\n",
       "    </tr>\n",
       "    <tr>\n",
       "      <th>3</th>\n",
       "      <td>Player_3</td>\n",
       "      <td>LB</td>\n",
       "      <td>DEN</td>\n",
       "      <td>1.541151e+06</td>\n",
       "      <td>0.0</td>\n",
       "      <td>0.0</td>\n",
       "      <td>0.000000</td>\n",
       "      <td>43.191574</td>\n",
       "      <td>11.933229</td>\n",
       "      <td>1.590132</td>\n",
       "    </tr>\n",
       "    <tr>\n",
       "      <th>4</th>\n",
       "      <td>Player_4</td>\n",
       "      <td>S</td>\n",
       "      <td>PHI</td>\n",
       "      <td>2.505371e+06</td>\n",
       "      <td>0.0</td>\n",
       "      <td>0.0</td>\n",
       "      <td>0.000000</td>\n",
       "      <td>49.961524</td>\n",
       "      <td>0.000000</td>\n",
       "      <td>2.468392</td>\n",
       "    </tr>\n",
       "  </tbody>\n",
       "</table>\n",
       "</div>"
      ],
      "text/plain": [
       "     Player Pos   Tm       Cap Hit  Passing Yards  Rushing Yards  \\\n",
       "0  Player_0   S   GB  9.020982e+06            0.0            0.0   \n",
       "1  Player_1  TE  MIN  2.394208e+06            0.0            0.0   \n",
       "2  Player_2  DE  SEA  3.265725e+06            0.0            0.0   \n",
       "3  Player_3  LB  DEN  1.541151e+06            0.0            0.0   \n",
       "4  Player_4   S  PHI  2.505371e+06            0.0            0.0   \n",
       "\n",
       "   Receiving Yards    Tackles      Sacks  Interceptions  \n",
       "0         0.000000  52.210742   0.000000       1.827099  \n",
       "1       565.617087   0.000000   0.000000       0.000000  \n",
       "2         0.000000  68.373129   4.671508       0.000000  \n",
       "3         0.000000  43.191574  11.933229       1.590132  \n",
       "4         0.000000  49.961524   0.000000       2.468392  "
      ]
     },
     "execution_count": 1,
     "metadata": {},
     "output_type": "execute_result"
    }
   ],
   "source": [
    "import pandas as pd\n",
    "import numpy as np\n",
    "from sklearn.model_selection import train_test_split\n",
    "from sklearn.linear_model import LinearRegression\n",
    "from sklearn.metrics import r2_score, mean_absolute_error, mean_squared_error\n",
    "import matplotlib.pyplot as plt\n",
    "\n",
    "df = pd.read_csv('NFL_2017_Cleaned.csv')\n",
    "df.head()"
   ]
  },
  {
   "cell_type": "code",
   "execution_count": 2,
   "id": "91aa0aaa",
   "metadata": {},
   "outputs": [
    {
     "name": "stdout",
     "output_type": "stream",
     "text": [
      "R²: -0.0017, MAE: $1,484,067, RMSE: $1,817,341\n"
     ]
    },
    {
     "data": {
      "image/png": "[encoded data removed]",
      "text/plain": [
       "<Figure size 640x480 with 1 Axes>"
      ]
     },
     "metadata": {},
     "output_type": "display_data"
    }
   ],
   "source": [
    "\n",
    "features = ['Passing Yards', 'Rushing Yards', 'Receiving Yards', 'Tackles', 'Sacks', 'Interceptions']\n",
    "X = df[features]\n",
    "y = df['Cap Hit']\n",
    "\n",
    "X_train, X_test, y_train, y_test = train_test_split(X, y, test_size=0.2, random_state=42)\n",
    "\n",
    "model = LinearRegression()\n",
    "model.fit(X_train, y_train)\n",
    "\n",
    "y_pred = model.predict(X_test)\n",
    "r2 = r2_score(y_test, y_pred)\n",
    "mae = mean_absolute_error(y_test, y_pred)\n",
    "rmse = np.sqrt(mean_squared_error(y_test, y_pred))\n",
    "\n",
    "print(f\"R²: {r2:.4f}, MAE: ${mae:,.0f}, RMSE: ${rmse:,.0f}\")\n",
    "\n",
    "feature_importance = pd.Series(model.coef_, index=features)\n",
    "feature_importance.sort_values(ascending=False).plot(kind='barh', title=\"Feature Impact on Salary\")\n",
    "plt.xlabel(\"Coefficient Value\")\n",
    "plt.show()"
   ]
  }
 ],
 "metadata": {
  "kernelspec": {
   "display_name": "base",
   "language": "python",
   "name": "python3"
  },
  "language_info": {
   "codemirror_mode": {
    "name": "ipython",
    "version": 3
   },
   "file_extension": ".py",
   "mimetype": "text/x-python",
   "name": "python",
   "nbconvert_exporter": "python",
   "pygments_lexer": "ipython3",
   "version": "3.11.4"
  }
 },
 "nbformat": 4,
 "nbformat_minor": 5
}
